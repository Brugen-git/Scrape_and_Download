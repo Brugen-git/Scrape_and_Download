{
 "cells": [
  {
   "cell_type": "code",
   "execution_count": null,
   "metadata": {},
   "outputs": [],
   "source": [
    "from selenium import webdriver\n",
    "from bs4 import BeautifulSoup\n",
    "import pandas as pd\n",
    "import re\n",
    "import csv\n",
    "import requests\n",
    "import os\n",
    "driver=webdriver.Chrome(executable_path=\"D:\\chromedriver_win32\\chromedriver.exe\")\n",
    "driver.get(\"https://downtowndallas.com/experience/stay/\")\n",
    "\n",
    "#A list to hold the URLs of Hotel pages\n",
    "listhotels = []\n",
    "\n",
    "\n",
    "maincontent = driver.page_source\n",
    "soupmain = BeautifulSoup(maincontent)\n",
    "#getting the links of hotels pages and storing them in the list\n",
    "for hotels in soupmain.find_all(attrs='place-square__btn'):\n",
    "    link = hotels.get('href')\n",
    "    if link not in listhotels:\n",
    "        listhotels.append(link)\n",
    "driver.close()\n",
    "\n",
    "download_img=[]\n",
    "for link in listhotels:\n",
    "    results = []\n",
    "    \n",
    "    driver = webdriver.Chrome(executable_path='D:\\chromedriver_win32\\chromedriver.exe')\n",
    "    driver.get(link)\n",
    "    content = driver.page_source\n",
    "    soup = BeautifulSoup(content)\n",
    "    name = soup.h1.string\n",
    "    if name not in results:\n",
    "        results.append(name)\n",
    "    for element in soup.find_all(attrs='place-info-address'):\n",
    "        link = element.a\n",
    "        txt = link.get_text(\"|\", strip=True)\n",
    "        if txt not in results:\n",
    "            results.append(txt)\n",
    "    image = soup.find(attrs='place-info-image')\n",
    "    img = image.img\n",
    "    \n",
    "    image_link = img.get(\"src\")\n",
    "#getting the URLs for images\n",
    "    if image_link not in results:\n",
    "        results.append(image_link)\n",
    "        download_img.append(image_link)\n",
    " #storing details in csv file       \n",
    "    with open(\"details.csv\", \"a\") as fp:\n",
    "        wr = csv.writer(fp, dialect='excel')\n",
    "        wr.writerow(results)\n",
    "    with open(\"img.csv\", \"a\") as fp:\n",
    "        wr = csv.writer(fp, dialect='excel')\n",
    "        wr.writerow(download_img)\n",
    "    driver.close()\n",
    "\n"
   ]
  },
  {
   "cell_type": "code",
   "execution_count": 1,
   "metadata": {},
   "outputs": [
    {
     "ename": "IndexError",
     "evalue": "list index out of range",
     "output_type": "error",
     "traceback": [
      "\u001b[1;31m---------------------------------------------------------------------------\u001b[0m",
      "\u001b[1;31mIndexError\u001b[0m                                Traceback (most recent call last)",
      "\u001b[1;32m<ipython-input-1-6c33642dd00b>\u001b[0m in \u001b[0;36m<module>\u001b[1;34m\u001b[0m\n\u001b[0;32m      6\u001b[0m     \u001b[0mreader\u001b[0m \u001b[1;33m=\u001b[0m \u001b[0mcsv\u001b[0m\u001b[1;33m.\u001b[0m\u001b[0mreader\u001b[0m\u001b[1;33m(\u001b[0m\u001b[0mf\u001b[0m\u001b[1;33m)\u001b[0m\u001b[1;33m\u001b[0m\u001b[1;33m\u001b[0m\u001b[0m\n\u001b[0;32m      7\u001b[0m     \u001b[1;32mfor\u001b[0m \u001b[0mrow\u001b[0m \u001b[1;32min\u001b[0m \u001b[0mreader\u001b[0m\u001b[1;33m:\u001b[0m\u001b[1;33m\u001b[0m\u001b[1;33m\u001b[0m\u001b[0m\n\u001b[1;32m----> 8\u001b[1;33m         \u001b[0mreq\u001b[0m \u001b[1;33m=\u001b[0m \u001b[0murllib\u001b[0m\u001b[1;33m.\u001b[0m\u001b[0mrequest\u001b[0m\u001b[1;33m.\u001b[0m\u001b[0mRequest\u001b[0m\u001b[1;33m(\u001b[0m\u001b[0murl\u001b[0m\u001b[1;33m=\u001b[0m\u001b[0mrow\u001b[0m\u001b[1;33m[\u001b[0m\u001b[1;36m1\u001b[0m\u001b[1;33m]\u001b[0m\u001b[1;33m,\u001b[0m \u001b[0mheaders\u001b[0m\u001b[1;33m=\u001b[0m\u001b[0mheaders\u001b[0m\u001b[1;33m)\u001b[0m\u001b[1;33m\u001b[0m\u001b[1;33m\u001b[0m\u001b[0m\n\u001b[0m\u001b[0;32m      9\u001b[0m         \u001b[0mimg\u001b[0m \u001b[1;33m=\u001b[0m \u001b[0murllib\u001b[0m\u001b[1;33m.\u001b[0m\u001b[0mrequest\u001b[0m\u001b[1;33m.\u001b[0m\u001b[0murlopen\u001b[0m\u001b[1;33m(\u001b[0m\u001b[0mreq\u001b[0m\u001b[1;33m)\u001b[0m\u001b[1;33m.\u001b[0m\u001b[0mread\u001b[0m\u001b[1;33m(\u001b[0m\u001b[1;33m)\u001b[0m\u001b[1;33m\u001b[0m\u001b[1;33m\u001b[0m\u001b[0m\n\u001b[0;32m     10\u001b[0m         \u001b[1;32mwith\u001b[0m \u001b[0mopen\u001b[0m\u001b[1;33m(\u001b[0m\u001b[1;34mf'hotel{i}.jpg'\u001b[0m\u001b[1;33m,\u001b[0m \u001b[1;34m'wb'\u001b[0m\u001b[1;33m)\u001b[0m \u001b[1;32mas\u001b[0m \u001b[0mf\u001b[0m\u001b[1;33m:\u001b[0m\u001b[1;33m\u001b[0m\u001b[1;33m\u001b[0m\u001b[0m\n",
      "\u001b[1;31mIndexError\u001b[0m: list index out of range"
     ]
    }
   ],
   "source": [
    "import urllib.request\n",
    "import csv\n",
    "headers = {'User-Agent':'Mozilla/5.0 (Windows NT 6.1; WOW64; rv:23.0) Gecko/20100101 Firefox/23.0'}\n",
    "with open('img.csv', 'r') as f:\n",
    "    i=0\n",
    "    reader = csv.reader(f)\n",
    "    for row in reader:\n",
    "        req = urllib.request.Request(url=row[1], headers=headers)\n",
    "        img = urllib.request.urlopen(req).read()\n",
    "        with open(f'hotel{i}.jpg', 'wb') as f:\n",
    "            f.write(img)\n",
    "        i+=1"
   ]
  },
  {
   "cell_type": "code",
   "execution_count": null,
   "metadata": {},
   "outputs": [],
   "source": []
  }
 ],
 "metadata": {
  "kernelspec": {
   "display_name": "Python 3",
   "language": "python",
   "name": "python3"
  }
 },
 "nbformat": 4,
 "nbformat_minor": 4
}
